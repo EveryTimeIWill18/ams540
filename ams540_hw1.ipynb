{
  "cells": [
    {
      "cell_type": "markdown",
      "source": [
        "# AMS 540: *Linear Programming*\n",
        "---\n",
        "\n__*Problem Set 1*__ <br> *William Murphy* <br> SBID: 106796665"
      ],
      "metadata": {}
    },
    {
      "cell_type": "markdown",
      "source": [
        "### Problem 1:\n",
        "*Formulate an LP to maximize Eastinghouse's daily profit*\n",
        "\n",
        "---\n",
        "\n",
        "### Solution: \n",
        "Define <br>$\\qquad \\quad x_1 := Number \\ of \\ workers \\ from \\ 8am-4pm \\ shift \\\\ \\qquad \\quad x_2 := Number \\ of \\ workers \\ from \\ 4pm-12am \\\\ \\qquad \\quad x_3 := Number \\ of \\ workers \\ form \\ 12am-8am$ <br><br>\n",
        "To maximize Eastinghouse's daily profit, I define $profit$ as:<br><br>\n",
        "$\\qquad \\quad profit = (18*10 - 12*8)x_1 + (22*9-16*8)x_2 + (24*12-20*8)x_3$\n",
        "<br><br>\n",
        "The linear program is:\n",
        "<br><br>\n",
        "$\\qquad \\qquad \\qquad \\qquad maximize \\ (18*10 - 12*8) \\\\ \n",
        "\\qquad \\qquad \\qquad \\qquad subject \\ to \\ \\ \\ x_1 \\le 10 \\\\ \n",
        "\\qquad \\qquad \\qquad \\qquad   \\ \\ \\ \\ \\qquad \\qquad x_2 \\le 10 \\\\\n",
        "\\qquad \\qquad \\qquad \\qquad   \\ \\ \\ \\ \\qquad \\qquad x_3 \\le 10 \\\\\n",
        "\\qquad \\qquad  \\qquad \\qquad \\qquad \\qquad x_1 + x_2 + x_3 \\le 25 \\\\\n",
        "\\qquad \\qquad \\qquad \\qquad \\ \\ \\ \\ \\ \\ \\ \\ \\ \\ 10x_1 + 9x_2 + 12x_3 \\le 250 \\\\\n",
        "\\qquad \\qquad \\ \\ 4(10)x_1 + 3(9)x_2 + 2(12)x_3 \\le 3(10x_1) + 3(9x_2) + 3(12x_3) \\\\\n",
        "\\qquad \\qquad \\qquad \\qquad \\qquad  x_1 \\ge 0, \\ x_2 \\ge 0, \\ x_3 \\ge 0\n",
        "$\n",
        "\n"
      ],
      "metadata": {}
    },
    {
      "cell_type": "markdown",
      "source": [
        "### Problem 2:\n",
        "*Formulate an LP that can be used to minimize the total cost of disposing of the waste of both cities.*\n",
        "\n---"
      ],
      "metadata": {}
    },
    {
      "cell_type": "markdown",
      "source": [
        "### Solution: \n",
        "Define <br>$\\qquad \\quad x_{1,A} := Amount \\ of \\ waste \\ from \\ City \\ 1 \\ transported \\ to \\ incinerator \\ 1(A) \\\\ \\qquad \\quad \n",
        "x_{1,B} := Amount \\ of \\ waste \\ from \\ City \\ 1 \\ transported \\ to \\ incinerator \\ 2(B) \\\\ \\qquad \\quad x_{2,A} := Amount \\ of \\ waste \\ from \\ City \\ 2 \\ transported \\ to \\ incinerator \\ 1(A) \\\\  \\\\ \\qquad \\quad x_{2,B} := Amount \\ of \\ waste \\ from \\ City \\ 2 \\ transported \\ to \\ incinerator \\ 2(B) \\\\ \\qquad \\ \\ \\ \\ y_{A,C} := Amount \\ of  \\ waste \\ from \\ incinerator \\ 1(A) \\ transported \\ to \\ landfill \\ 1(C) \\\\ \\qquad \\ \\ \\ \\ y_{A,D} := Amount \\ of  \\ waste \\ from \\ incinerator \\ 1(A) \\ transported \\ to \\ landfill \\ 2(D) \\\\ \\qquad \\ \\ \\ \\ y_{B,C} := Amount \\ of  \\ waste \\ from \\ incinerator \\ 2(B) \\ transported \\ to \\ landfill \\ 1(C) \\\\ \\qquad \\ \\ \\ \\ y_{B,D} := Amount \\ of  \\ waste \\ from \\ incinerator \\ 2(B) \\ transported \\ to \\ landfill \\ 2(D)\n",
        "$ <br><br>"
      ],
      "metadata": {
        "collapsed": false,
        "outputHidden": false,
        "inputHidden": false
      }
    },
    {
      "cell_type": "markdown",
      "source": [
        "To minimize total cost for City 1 and City 2, we arrive at the following cost function:<br><br>\n",
        "$ Total \\ Cost :=  Cost \\ of \\ Transportation + Cost \\ of \\ Incineration \\\\\n",
        "Cost \\ of \\ Transportation := 3(30x_{1,A} \\ + 5x_{1,B} \\ + 36x_{2,A} \\ + 42x_{2,B} \\ + \n",
        "5y_{A,C} \\ + 9y_{A,D} \\ + 8y_{B,C} \\ + 6y_{B,D}) \\\\ Cost \\ of \\ Incineration \\quad \\ := 40(x_{1,A} + x_{2,A}) + 30(x_{1,B}+x_{2,B})$\n",
        "<br><br>\n",
        "The linear program is:\n",
        "<br><br>\n",
        "$\\qquad \\qquad \\qquad \\qquad minimize \\ \\ Total \\ Cost \\\\ \n",
        "\\qquad \\qquad \\qquad \\qquad subject \\ to \\ \\ \\ x_{1,A} + x_{1,B} = 500 \\\\ \n",
        "\\qquad \\qquad \\qquad \\qquad   \\ \\ \\ \\ \\qquad \\qquad x_{2,A} + x_{2,B} = 400 \\\\\n",
        "\\qquad \\qquad \\qquad \\qquad   \\ \\ \\ \\ \\qquad \\qquad x_{1,A} + x_{2,A} \\le 500 \\\\\n",
        "\\qquad \\qquad  \\qquad \\qquad \\qquad \\qquad \\  \\ \\ \\ x_{1,B} + x_{2,B} \\le 500 \\\\\n",
        "\\qquad \\qquad \\qquad \\qquad \\qquad \\ \\ \\ \\ \\ \\ \\ \\ \\ \\ \\ \\ y_{A,C} + y_{B,C} \\le 200 \\\\\n",
        "\\qquad \\qquad \\qquad \\qquad \\qquad \\ \\ \\ \\ \\ \\ \\ \\ \\ \\ \\ \\ y_{A,D} + y_{B,D} \\le 200 \\\\\n",
        "\\qquad \\qquad \\qquad \\qquad  x_{1,A},\\ x_{1,B}, \\ x_{2,A}, \\ x_{2,B}, \\ y_{A,C}, \\\n",
        "y_{A,D}, \\ y_{B,C} \\ y_{B,D} \\ge 0\n",
        "$\n"
      ],
      "metadata": {}
    },
    {
      "cell_type": "markdown",
      "source": [
        "### Problem 3:\n",
        "\n",
        "*Formulate an LP that can be used to maximize the total cash on hand at the beginning of month 5.*\n",
        "\n---"
      ],
      "metadata": {}
    },
    {
      "cell_type": "markdown",
      "source": [
        "### Solution:\n",
        "Define $x_{ij}$ as *money invested on the start of month i, held for j months*. *To be more explicit, if an investement is made during month one and heald for 4 months, we have $i = 1$, $j = 4$.**Define* <br> $total  \\ money \\ available := invested \\ money \\ + \\ bills \\ to \\ be \\ paid.$*  \n",
        "Then we arrive at the following *LP*:<br><br>\n",
        "$\\qquad \\qquad \\qquad \\qquad \\qquad  maximize \\ \\ 1.08x_{14} \\ + \\ 1.03x_{23} \\ + \\ 1.01x_{32} + 1.001x_{41} \\\\ \\qquad \\qquad \\qquad \\qquad \\qquad subject \\ to \\ \\ \\ x_{11} + x_{12} + x_{13} + x_{14} + \\$600 = \\$800 \\\\ \\qquad \\qquad \\qquad \\qquad \\qquad  \\qquad \\qquad \\ \\  \\ \\ x_{21} +  x_{22} +  x_{23} + \\$500 = 1.001x_{11} + \\$800 \\\\ \\qquad \\qquad \\qquad \\qquad \\qquad  \\qquad \\qquad \\ \\  \\ \\ x_{31} + x_{32} + \\$500 = 1.01x_{12} + 1.001x_{21} + \\$300 \\\\ \\qquad \\qquad \\qquad \\qquad \\qquad  \\qquad \\qquad \\ \\  \\ \\ x_{41} + \\$250 = 1.03x_{13} + 1.01x_{22} + 1.001x_{31} + \\$300 \\\\ $ \n"
      ],
      "metadata": {}
    },
    {
      "cell_type": "markdown",
      "source": [
        "### Problem 4\n",
        "*Formulate the problem of finding the maximum number of assembled components that can be produced as a linear program*\n",
        "\n",
        "---\n",
        "### Solution:\n",
        "\n",
        "Define<br> $\\qquad \\qquad \\qquad \\qquad \\qquad \\qquad x_{s} := number \\ of \\ shafts \\ built \\\\ \\qquad \\qquad \\qquad \\qquad \\qquad \\qquad x_{f} := number \\ of \\ frames \\ built$<br>\n",
        "\n",
        "The LP is defined as:\n",
        "$\\qquad \\qquad \\qquad \\qquad \\qquad \\qquad  \\qquad  maximize \\ \\ \\ \\ \\ \\ x_{s} + x_{f} \\\\ \\qquad \\qquad \\qquad \\qquad \\qquad \\qquad  subject \\ to \\ \\ 0.6x_{s} +0.8x_{f}  \\le 4500 \\\\ \\qquad \\qquad \\qquad \\qquad \\qquad \\qquad \\qquad \\qquad \\qquad \\ \\qquad  0.3x_{s} \\le 4500 \\\\ \\qquad \\qquad \\qquad \\qquad \\qquad \\qquad \\qquad \\qquad \\ \\ \\ 0.4x_{s} + 0.6x_{f} \\le 4500 \\\\ \\qquad \\qquad \\qquad \\qquad \\qquad \\qquad  \\qquad \\qquad \\qquad \\qquad \\ 0.2x_{f} \\le 4500 \\\\ \\qquad \\qquad \\qquad \\qquad \\qquad \\qquad  \\qquad \\qquad \\qquad \\qquad \\ 0.3x_{f} \\le 4500 \\\\ \\qquad \\qquad \\qquad \\qquad \\qquad \\qquad     \\qquad \\qquad \\qquad \\qquad \\    x_{s},\\ z_{f} \\ge 0$\n",
        "\n\n\n"
      ],
      "metadata": {}
    }
  ],
  "metadata": {
    "kernel_info": {
      "name": "python3"
    },
    "language_info": {
      "name": "python",
      "version": "3.6.5",
      "mimetype": "text/x-python",
      "codemirror_mode": {
        "name": "ipython",
        "version": 3
      },
      "pygments_lexer": "ipython3",
      "nbconvert_exporter": "python",
      "file_extension": ".py"
    },
    "kernelspec": {
      "name": "python3",
      "language": "python",
      "display_name": "Python 3"
    },
    "nteract": {
      "version": "0.11.6"
    }
  },
  "nbformat": 4,
  "nbformat_minor": 4
}