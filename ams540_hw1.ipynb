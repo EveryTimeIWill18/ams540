{
  "cells": [
    {
      "cell_type": "markdown",
      "source": [
        "# AMS 540: *Linear Programming*\n",
        "---\n",
        "\n__*Problem Set 1*__ <br> *William Murphy* <br> SBID: 106796665"
      ],
      "metadata": {}
    },
    {
      "cell_type": "markdown",
      "source": [
        "### Problem 1:\n",
        "*Formulate an LP to maximize Eastinghouse's daily profit*\n",
        "\n",
        "---\n",
        "\n",
        "### Solution: \n",
        "Define <br>$\\qquad \\quad x_1 := Number \\ of \\ workers \\ from \\ 8am-4pm \\ shift \\\\ \\qquad \\quad x_2 := Number \\ of \\ workers \\ from \\ 4pm-12am \\\\ \\qquad \\quad x_3 := Number \\ of \\ workers \\ form \\ 12am-8am$ <br><br>\n",
        "To maximize Eastinghouse's daily profit, I define $profit$ as:<br><br>\n",
        "$\\qquad \\quad profit = (18*10 - 12*8)x_1 + (22*9-16*8)x_2 + (24*12-20*8)x_3$\n",
        "<br><br>\n",
        "The linear program is:\n",
        "<br><br>\n",
        "$\\qquad \\qquad \\qquad \\qquad maximize \\ (18*10 - 12*8) \\\\ \n",
        "\\qquad \\qquad \\qquad \\qquad subject \\ to \\ \\ \\ x_1 \\le 10 \\\\ \n",
        "\\qquad \\qquad \\qquad \\qquad   \\ \\ \\ \\ \\qquad \\qquad x_2 \\le 10 \\\\\n",
        "\\qquad \\qquad \\qquad \\qquad   \\ \\ \\ \\ \\qquad \\qquad x_3 \\le 10 \\\\\n",
        "\\qquad \\qquad  \\qquad \\qquad \\qquad \\qquad x_1 + x_2 + x_3 \\le 25 \\\\\n",
        "\\qquad \\qquad \\qquad \\qquad \\ \\ \\ \\ \\ \\ \\ \\ \\ \\ 10x_1 + 9x_2 + 12x_3 \\le 250 \\\\\n",
        "\\qquad \\qquad \\ \\ 4(10)x_1 + 3(9)x_2 + 2(12)x_3 \\le 3(10x_1) + 3(9x_2) + 3(12x_3) \\\\\n",
        "\\qquad \\qquad \\qquad \\qquad \\qquad  x_1 \\ge 0, \\ x_2 \\ge 0, \\ x_3 \\ge 0\n",
        "$\n",
        "\n"
      ],
      "metadata": {}
    },
    {
      "cell_type": "markdown",
      "source": [],
      "metadata": {}
    }
  ],
  "metadata": {
    "kernel_info": {
      "name": "python3"
    },
    "language_info": {
      "name": "python",
      "version": "3.6.5",
      "mimetype": "text/x-python",
      "codemirror_mode": {
        "name": "ipython",
        "version": 3
      },
      "pygments_lexer": "ipython3",
      "nbconvert_exporter": "python",
      "file_extension": ".py"
    },
    "kernelspec": {
      "name": "python3",
      "language": "python",
      "display_name": "Python 3"
    },
    "nteract": {
      "version": "0.11.6"
    }
  },
  "nbformat": 4,
  "nbformat_minor": 4
}